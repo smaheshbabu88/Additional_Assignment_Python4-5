{
 "cells": [
  {
   "cell_type": "markdown",
   "metadata": {},
   "source": [
    "Problem #1 Write a python program which creates a class named Cone and write a\n",
    "function calculate_area which calculates the area of the Cone."
   ]
  },
  {
   "cell_type": "code",
   "execution_count": 31,
   "metadata": {},
   "outputs": [
    {
     "name": "stdout",
     "output_type": "stream",
     "text": [
      "Please enter the radius of the cone:4\n",
      "Please enter the height of the cone:5\n",
      "Area of a cone with radius: 4.00 and height: 5.00 is: 130.73\n",
      "Volume of a cone with radius: 4.00 and height: 5.00 is: 83.78\n"
     ]
    }
   ],
   "source": [
    "import math as math\n",
    "class Cone:\n",
    "    def __init__(self, radius, height):\n",
    "        self.radius = radius\n",
    "        self.height = height\n",
    "    def calculate_area(self):\n",
    "        Area = math.pi * self.radius * (self.radius + (math.sqrt((self.height*self.height) + (self.radius * self.radius))))\n",
    "        print(\"Area of a cone with radius: %.2f and height: %.2f is: %.2f\" % (self.radius,self.height,Area))\n",
    "    def calculate_volume(self):\n",
    "        Volume = math.pi * self.radius * self.radius * (self.height / 3)\n",
    "        print(\"Volume of a cone with radius: %.2f and height: %.2f is: %.2f\" % (self.radius,self.height,Volume))\n",
    "        \n",
    "radius = float(input(\"Please enter the radius of the cone:\"))\n",
    "height = float(input(\"Please enter the height of the cone:\"))\n",
    "C = Cone(radius, height)\n",
    "C.calculate_area()\n",
    "C.calculate_volume()"
   ]
  },
  {
   "cell_type": "markdown",
   "metadata": {},
   "source": [
    "Problem #2 Define a class MathOperation which implements pow(x,n) without using python's in-built pow() method Sample Execution: M = MathOperation() print(M.pow(2, 3)) 8 print(M.pow(5, -3)) 0.008 print(M.pow(-2, 5)) -32 print(M.pow(-5, -3)) -0.008 print(M.pow(20000,0)) 1"
   ]
  },
  {
   "cell_type": "code",
   "execution_count": 37,
   "metadata": {},
   "outputs": [
    {
     "name": "stdout",
     "output_type": "stream",
     "text": [
      "8\n",
      "0.008\n",
      "-32\n",
      "-0.008\n",
      "1\n"
     ]
    }
   ],
   "source": [
    "class MathOperation:\n",
    "    def pow(self,n1,n2):\n",
    "        return (n1**n2)\n",
    "\n",
    "M = MathOperation()\n",
    "print(M.pow(2,3))\n",
    "print(M.pow(5, -3))\n",
    "print(M.pow(-2, 5))\n",
    "print(M.pow(-5, -3))\n",
    "print(M.pow(20000,0))"
   ]
  },
  {
   "cell_type": "markdown",
   "metadata": {},
   "source": [
    "Problem #3 Write a python program that creates a class Base and Derived. Use inbuilt function issubclass and isinstance which gives boolean results.(True or False)"
   ]
  },
  {
   "cell_type": "code",
   "execution_count": 39,
   "metadata": {},
   "outputs": [
    {
     "name": "stdout",
     "output_type": "stream",
     "text": [
      "Check:\n",
      "Derived class is a subclass of Base class which will return True\n",
      "Base class is a subclass of Derived class which will return False\n",
      "Base class is an instance of Derived class which will return False\n",
      "Derived class is an instance of Base class which will return True\n"
     ]
    }
   ],
   "source": [
    "class Base:\n",
    "    pass\n",
    "class Derived(Base):\n",
    "    pass\n",
    "\n",
    "B=Base()\n",
    "D=Derived()\n",
    "\n",
    "print(\"Check:\")\n",
    "print(\"Derived class is a subclass of Base class which will return\", issubclass(Derived,Base))\n",
    "print(\"Base class is a subclass of Derived class which will return\", issubclass(Base,Derived))\n",
    "print(\"Base class is an instance of Derived class which will return\", isinstance(B,Derived))\n",
    "print(\"Derived class is an instance of Base class which will return\", isinstance(D,Base))"
   ]
  },
  {
   "cell_type": "markdown",
   "metadata": {},
   "source": [
    "Problem #4 Write a python program that creates base class Person which has two methods def init(self, first, last) def str(self) Also create a derived class named Employee which uses the base class method “def str(self)” using “super()” to concatenate first name wit h last name"
   ]
  },
  {
   "cell_type": "code",
   "execution_count": 48,
   "metadata": {},
   "outputs": [
    {
     "name": "stdout",
     "output_type": "stream",
     "text": [
      "Mahesh Shivashankar\n"
     ]
    }
   ],
   "source": [
    "class Person:\n",
    "    def __init__(self,first,last):\n",
    "        self.first=first\n",
    "        self.last=last\n",
    "    def __str__(self):\n",
    "        return (self.first+\" \"+self.last)\n",
    "class Employee(Person):\n",
    "    def __init__(self,first,last):\n",
    "        super().__init__(first,last)\n",
    "    \n",
    "E=Employee(\"Mahesh\",\"Shivashankar\")\n",
    "print(E)"
   ]
  },
  {
   "cell_type": "code",
   "execution_count": null,
   "metadata": {},
   "outputs": [],
   "source": []
  }
 ],
 "metadata": {
  "kernelspec": {
   "display_name": "Python 3",
   "language": "python",
   "name": "python3"
  },
  "language_info": {
   "codemirror_mode": {
    "name": "ipython",
    "version": 3
   },
   "file_extension": ".py",
   "mimetype": "text/x-python",
   "name": "python",
   "nbconvert_exporter": "python",
   "pygments_lexer": "ipython3",
   "version": "3.6.4"
  }
 },
 "nbformat": 4,
 "nbformat_minor": 2
}
